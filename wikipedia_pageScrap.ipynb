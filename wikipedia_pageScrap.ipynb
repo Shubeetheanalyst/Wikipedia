{
 "cells": [
  {
   "cell_type": "code",
   "execution_count": 145,
   "id": "48ee9a33",
   "metadata": {},
   "outputs": [],
   "source": [
    "#Liabraries\n",
    "import nltk\n",
    "import urllib\n",
    "import re\n",
    "import bs4 as bs\n",
    "from nltk.corpus import stopwords\n",
    "import pandas as pd"
   ]
  },
  {
   "cell_type": "code",
   "execution_count": 146,
   "id": "ea946d06",
   "metadata": {},
   "outputs": [],
   "source": [
    "#Getting the data scource\n",
    "source = urllib.request.urlopen('https://simple.wikipedia.org/wiki/Global_warming')"
   ]
  },
  {
   "cell_type": "code",
   "execution_count": 147,
   "id": "b7db1a24",
   "metadata": {},
   "outputs": [],
   "source": [
    "#Parsing the data\n",
    "soup = bs.BeautifulSoup(source, 'lxml')"
   ]
  },
  {
   "cell_type": "code",
   "execution_count": 148,
   "id": "65bf4be8",
   "metadata": {},
   "outputs": [],
   "source": [
    "#Fetching the Title\n",
    "tag = ''\n",
    "for tag in soup.find_all('h1'):\n",
    "    title += str(tag.text)\n",
    "    a = tag.text"
   ]
  },
  {
   "cell_type": "code",
   "execution_count": 149,
   "id": "5334b309",
   "metadata": {},
   "outputs": [
    {
     "data": {
      "text/plain": [
       "'Global warming'"
      ]
     },
     "execution_count": 149,
     "metadata": {},
     "output_type": "execute_result"
    }
   ],
   "source": [
    "a"
   ]
  },
  {
   "cell_type": "code",
   "execution_count": 150,
   "id": "9db92afd",
   "metadata": {},
   "outputs": [],
   "source": [
    "# Fetching the data \n",
    "text = ''\n",
    "for paragraph in soup.find_all('p'):\n",
    "    text += paragraph.text"
   ]
  },
  {
   "cell_type": "code",
   "execution_count": 151,
   "id": "ec8f652d",
   "metadata": {},
   "outputs": [],
   "source": [
    "# text"
   ]
  },
  {
   "cell_type": "code",
   "execution_count": 152,
   "id": "a205c9b6",
   "metadata": {},
   "outputs": [],
   "source": [
    "body = soup.find('body')\n",
    "hrefs = []\n",
    "for link in body.find_all('a'):\n",
    "    href = link.get('href')\n",
    "    if href:\n",
    "        hrefs.append(href)"
   ]
  },
  {
   "cell_type": "code",
   "execution_count": 153,
   "id": "c16e683c",
   "metadata": {},
   "outputs": [],
   "source": [
    "# hrefs"
   ]
  },
  {
   "cell_type": "code",
   "execution_count": 154,
   "id": "f306c9c8",
   "metadata": {},
   "outputs": [],
   "source": [
    "#Preprocessing the Data\n",
    "text = re.sub(r'\\[[0-9]*\\]', '', text)\n",
    "text = re.sub(r'\\s+', '', text)\n",
    "text = text.lower()\n",
    "text = re.sub(r'\\d', '', text)\n",
    "text = re.sub(r'\\s+', '', text)"
   ]
  },
  {
   "cell_type": "code",
   "execution_count": 155,
   "id": "2e27b344",
   "metadata": {},
   "outputs": [],
   "source": [
    "# text"
   ]
  },
  {
   "cell_type": "code",
   "execution_count": 165,
   "id": "8d32c2ed",
   "metadata": {},
   "outputs": [],
   "source": [
    "#preparing the Dataset\n",
    "sentences = nltk.sent_tokenize(text)\n",
    "sentences = [nltk.sent_tokenize(sentence) for sentence in sentences]"
   ]
  },
  {
   "cell_type": "code",
   "execution_count": 103,
   "id": "3e8a4cc7",
   "metadata": {},
   "outputs": [],
   "source": [
    "#create a DataFrame\n",
    "df = pd.DataFrame({'title': a, 'Text': text, 'href': hrefs})"
   ]
  },
  {
   "cell_type": "code",
   "execution_count": 104,
   "id": "7dd45b92",
   "metadata": {},
   "outputs": [],
   "source": [
    "#Save the data into Dataframe\n",
    "df.to_csv('global_warmingdata.csv', index=False)"
   ]
  }
 ],
 "metadata": {
  "kernelspec": {
   "display_name": "Python 3 (ipykernel)",
   "language": "python",
   "name": "python3"
  },
  "language_info": {
   "codemirror_mode": {
    "name": "ipython",
    "version": 3
   },
   "file_extension": ".py",
   "mimetype": "text/x-python",
   "name": "python",
   "nbconvert_exporter": "python",
   "pygments_lexer": "ipython3",
   "version": "3.9.13"
  }
 },
 "nbformat": 4,
 "nbformat_minor": 5
}
